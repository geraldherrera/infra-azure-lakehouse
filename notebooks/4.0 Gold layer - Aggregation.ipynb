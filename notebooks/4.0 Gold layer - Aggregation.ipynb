{
 "cells": [
  {
   "cell_type": "markdown",
   "metadata": {
    "application/vnd.databricks.v1+cell": {
     "cellMetadata": {
      "byteLimit": 2048000,
      "rowLimit": 10000
     },
     "inputWidgets": {},
     "nuid": "5282883a-8bb8-4cae-8fd5-69ec64d8a74d",
     "showTitle": false,
     "tableResultSettingsMap": {},
     "title": ""
    }
   },
   "source": [
    "Détection automatique du catalog Unity Catalog"
   ]
  },
  {
   "cell_type": "code",
   "execution_count": 0,
   "metadata": {
    "application/vnd.databricks.v1+cell": {
     "cellMetadata": {
      "byteLimit": 2048000,
      "rowLimit": 10000
     },
     "inputWidgets": {},
     "nuid": "45dbf4da-7e2b-4ae5-9176-f7d364934071",
     "showTitle": false,
     "tableResultSettingsMap": {},
     "title": ""
    }
   },
   "outputs": [],
   "source": [
    "catalogs = [row.catalog for row in spark.sql(\"SHOW CATALOGS\").collect()]\n",
    "unity_catalogs = [c for c in catalogs if c != \"hive_metastore\"]\n",
    "\n",
    "if len(unity_catalogs) == 1:\n",
    "    default_catalog = unity_catalogs[0]\n",
    "else:\n",
    "    # Choisir celui qui commence par 'dbw_' si plusieurs\n",
    "    default_catalog = next((c for c in unity_catalogs if c.startswith(\"dbw_\")), \"hive_metastore\")\n",
    "\n",
    "# Création d'un widget pour sélectionner dynamiquement le catalog\n",
    "dbutils.widgets.text(\"my_catalog\", default_catalog, \"Catalog détecté\")\n",
    "catalog = dbutils.widgets.get(\"my_catalog\")\n",
    "    \n",
    "dbutils.widgets.text(\"my_schema\", \"gold\", \"Schéma Gold\")\n",
    "\n",
    "gold_schema = dbutils.widgets.get(\"my_schema\")"
   ]
  },
  {
   "cell_type": "markdown",
   "metadata": {
    "application/vnd.databricks.v1+cell": {
     "cellMetadata": {
      "byteLimit": 2048000,
      "rowLimit": 10000
     },
     "inputWidgets": {},
     "nuid": "bf955e08-ae5c-41b2-ab71-5c97dd266aed",
     "showTitle": false,
     "tableResultSettingsMap": {},
     "title": ""
    }
   },
   "source": [
    "Définition des chémas cibles"
   ]
  },
  {
   "cell_type": "code",
   "execution_count": 0,
   "metadata": {
    "application/vnd.databricks.v1+cell": {
     "cellMetadata": {
      "byteLimit": 2048000,
      "rowLimit": 10000
     },
     "inputWidgets": {},
     "nuid": "04d16c53-5cfc-47ba-aa9d-0bb8fe88d009",
     "showTitle": false,
     "tableResultSettingsMap": {},
     "title": ""
    }
   },
   "outputs": [],
   "source": [
    "silver_schema = \"silver\"\n",
    "logs_schema = \"logs\"\n",
    "log_table = \"gold_processing_log\""
   ]
  },
  {
   "cell_type": "markdown",
   "metadata": {
    "application/vnd.databricks.v1+cell": {
     "cellMetadata": {
      "byteLimit": 2048000,
      "rowLimit": 10000
     },
     "inputWidgets": {},
     "nuid": "3bd2dbb4-2c08-4546-ae5b-f34dcd6e049f",
     "showTitle": false,
     "tableResultSettingsMap": {},
     "title": ""
    }
   },
   "source": [
    "Fonction pour journaliser le passage en gold"
   ]
  },
  {
   "cell_type": "code",
   "execution_count": 0,
   "metadata": {
    "application/vnd.databricks.v1+cell": {
     "cellMetadata": {
      "byteLimit": 2048000,
      "rowLimit": 10000
     },
     "inputWidgets": {},
     "nuid": "7f5364ad-e2b6-4a2c-a57e-547af70bb446",
     "showTitle": false,
     "tableResultSettingsMap": {},
     "title": ""
    }
   },
   "outputs": [],
   "source": [
    "from datetime import datetime\n",
    "from pyspark.sql.types import StructType, StructField, StringType, TimestampType, IntegerType\n",
    "\n",
    "def log_gold_processing_result(table_name, status, rows_inserted=None, message=None):\n",
    "    schema = StructType([\n",
    "        StructField(\"table_name\", StringType(), False),\n",
    "        StructField(\"timestamp\", TimestampType(), False),\n",
    "        StructField(\"status\", StringType(), False),\n",
    "        StructField(\"rows_inserted\", IntegerType(), True),\n",
    "        StructField(\"message\", StringType(), True)\n",
    "    ])\n",
    "\n",
    "    data = [{\n",
    "        \"table_name\": table_name,\n",
    "        \"timestamp\": datetime.now(),\n",
    "        \"status\": status,\n",
    "        \"rows_inserted\": int(rows_inserted) if rows_inserted is not None else None,\n",
    "        \"message\": message[:5000] if message else \"Ingestion réussie\"\n",
    "    }]\n",
    "\n",
    "    df_log = spark.createDataFrame(data, schema=schema)\n",
    "    df_log.write.mode(\"append\").format(\"delta\").saveAsTable(f\"{catalog}.{logs_schema}.{log_table}\")\n"
   ]
  },
  {
   "cell_type": "markdown",
   "metadata": {
    "application/vnd.databricks.v1+cell": {
     "cellMetadata": {
      "byteLimit": 2048000,
      "rowLimit": 10000
     },
     "inputWidgets": {},
     "nuid": "160fa37e-2204-4ae1-8546-3df981f4f9a0",
     "showTitle": false,
     "tableResultSettingsMap": {},
     "title": ""
    }
   },
   "source": [
    "DDL"
   ]
  },
  {
   "cell_type": "code",
   "execution_count": 0,
   "metadata": {
    "application/vnd.databricks.v1+cell": {
     "cellMetadata": {
      "byteLimit": 2048000,
      "rowLimit": 10000
     },
     "inputWidgets": {},
     "nuid": "93d8dca2-0782-4a06-baf4-036e7774a5bb",
     "showTitle": false,
     "tableResultSettingsMap": {},
     "title": ""
    }
   },
   "outputs": [],
   "source": [
    "ddl_statements = [\n",
    "\n",
    "    f\"\"\"\n",
    "    CREATE TABLE IF NOT EXISTS {catalog}.{gold_schema}.dim_calendar (\n",
    "      date_key               INT PRIMARY KEY,\n",
    "      full_date              DATE,\n",
    "      year                   INT,\n",
    "      quarter                INT,\n",
    "      month                  INT,\n",
    "      month_name_en          STRING,\n",
    "      month_name_fr          STRING,\n",
    "      day                    INT,\n",
    "      day_of_week            INT,\n",
    "      day_of_week_name_en    STRING,\n",
    "      day_of_week_name_fr    STRING,\n",
    "      week_of_year           INT,\n",
    "      is_weekend             BOOLEAN\n",
    "    ) USING DELTA\n",
    "    PARTITIONED BY (year, month)\n",
    "    \"\"\",\n",
    "\n",
    "    f\"\"\"\n",
    "    CREATE TABLE IF NOT EXISTS {catalog}.{gold_schema}.dim_customer (\n",
    "      customer_key   BIGINT GENERATED ALWAYS AS IDENTITY PRIMARY KEY,\n",
    "      customer_id    INT    NOT NULL,\n",
    "      title            STRING,\n",
    "      first_name       STRING,\n",
    "      last_name        STRING,\n",
    "      company_name     STRING,\n",
    "      email_address    STRING,\n",
    "      phone            STRING,\n",
    "      address_line1    STRING,\n",
    "      city             STRING,\n",
    "      state_province   STRING,\n",
    "      country_region   STRING,\n",
    "      postal_code      STRING\n",
    "    ) USING DELTA\n",
    "    \"\"\",\n",
    "\n",
    "    f\"\"\"\n",
    "    CREATE TABLE IF NOT EXISTS {catalog}.{gold_schema}.dim_address (\n",
    "      address_key    BIGINT GENERATED ALWAYS AS IDENTITY PRIMARY KEY,\n",
    "      address_id     INT    NOT NULL,\n",
    "      address_line1  STRING,\n",
    "      city           STRING,\n",
    "      state_province STRING,\n",
    "      country_region STRING,\n",
    "      postal_code    STRING\n",
    "    ) USING DELTA\n",
    "    \"\"\",\n",
    "\n",
    "    f\"\"\"\n",
    "    CREATE TABLE IF NOT EXISTS {catalog}.{gold_schema}.dim_product (\n",
    "      product_key                       BIGINT GENERATED ALWAYS AS IDENTITY PRIMARY KEY,\n",
    "      product_id                        INT    NOT NULL,\n",
    "      name                              STRING,\n",
    "      product_number                    STRING,\n",
    "      color                             STRING,\n",
    "      size                              STRING,\n",
    "      standard_cost                     DECIMAL(19,4),\n",
    "      list_price                        DECIMAL(19,4),\n",
    "      product_category_id               INT,\n",
    "      product_category_name             STRING,\n",
    "      parent_product_category_id        INT,\n",
    "      parent_product_category_name      STRING,\n",
    "      product_model_id                  INT,\n",
    "      product_model_name                STRING,\n",
    "      product_description               STRING\n",
    "    ) USING DELTA\n",
    "    \"\"\",\n",
    "\n",
    "    f\"\"\"\n",
    "    CREATE TABLE IF NOT EXISTS {catalog}.{gold_schema}.fact_sales (\n",
    "      sales_order_line_key  BIGINT GENERATED ALWAYS AS IDENTITY PRIMARY KEY,\n",
    "      sales_order_id        INT,\n",
    "      sales_order_detail_id INT,\n",
    "      customer_key          BIGINT,\n",
    "      product_key           BIGINT,\n",
    "      order_date_key        INT,\n",
    "      due_date_key          INT,\n",
    "      ship_date_key         INT,\n",
    "      ship_to_address_key   BIGINT,\n",
    "      bill_to_address_key   BIGINT,\n",
    "      ship_method           STRING,\n",
    "      order_qty             INT,\n",
    "      unit_price            DECIMAL(19,4),\n",
    "      unit_price_discount   DECIMAL(19,4),\n",
    "      line_total            DECIMAL(38,6),\n",
    "      tax_amt               DECIMAL(19,4),\n",
    "      freight               DECIMAL(19,4),\n",
    "      gross_amount          DECIMAL(19,4),\n",
    "      discount_amount       DECIMAL(19,4),\n",
    "      load_date             TIMESTAMP\n",
    "    ) USING DELTA\n",
    "    PARTITIONED BY (order_date_key)\n",
    "    \"\"\"\n",
    "]\n",
    "\n",
    "for ddl in ddl_statements:\n",
    "    spark.sql(ddl)"
   ]
  },
  {
   "cell_type": "markdown",
   "metadata": {
    "application/vnd.databricks.v1+cell": {
     "cellMetadata": {
      "byteLimit": 2048000,
      "rowLimit": 10000
     },
     "inputWidgets": {},
     "nuid": "287c26b3-888e-4db0-b659-d4febbabf2d7",
     "showTitle": false,
     "tableResultSettingsMap": {},
     "title": ""
    }
   },
   "source": [
    "DML dimensions (SCD1)"
   ]
  },
  {
   "cell_type": "code",
   "execution_count": 0,
   "metadata": {
    "application/vnd.databricks.v1+cell": {
     "cellMetadata": {
      "byteLimit": 2048000,
      "rowLimit": 10000
     },
     "inputWidgets": {},
     "nuid": "916a0b11-a423-40a1-8b71-ffc3d74f6477",
     "showTitle": false,
     "tableResultSettingsMap": {},
     "title": ""
    }
   },
   "outputs": [],
   "source": [
    "# Fonction d'ingestion qui fait TRUNCATE + INSERT + LOG\n",
    "def ingest_dim(table_name, query):\n",
    "    full_table_name = f\"{catalog}.{gold_schema}.{table_name}\"\n",
    "    try:\n",
    "        spark.sql(f\"TRUNCATE TABLE {full_table_name}\")\n",
    "        df = spark.sql(query)\n",
    "        count = df.count()\n",
    "        df.write.mode(\"append\").saveAsTable(full_table_name)\n",
    "        log_gold_processing_result(table_name, \"OK\", rows_inserted=count)\n",
    "    except Exception as e:\n",
    "        log_gold_processing_result(table_name, \"KO\", message=str(e))\n",
    "\n",
    "# Requêtes d'insertion (pour les 4 dimensions utilisées)\n",
    "queries = {\n",
    "    \"dim_calendar\": f\"\"\"\n",
    "        SELECT\n",
    "          CAST(date_format(date, 'yyyyMMdd') AS INT) AS date_key,\n",
    "          date AS full_date,\n",
    "          year(date) AS year,\n",
    "          quarter(date) AS quarter,\n",
    "          month(date) AS month,\n",
    "          date_format(date, 'MMMM') AS month_name_en,\n",
    "          CASE month(date)\n",
    "            WHEN 1 THEN 'janvier' WHEN 2 THEN 'février' WHEN 3 THEN 'mars'\n",
    "            WHEN 4 THEN 'avril' WHEN 5 THEN 'mai' WHEN 6 THEN 'juin'\n",
    "            WHEN 7 THEN 'juillet' WHEN 8 THEN 'août' WHEN 9 THEN 'septembre'\n",
    "            WHEN 10 THEN 'octobre' WHEN 11 THEN 'novembre' WHEN 12 THEN 'décembre'\n",
    "          END AS month_name_fr,\n",
    "          day(date) AS day,\n",
    "          dayofweek(date) AS day_of_week,\n",
    "          date_format(date, 'EEEE') AS day_of_week_name_en,\n",
    "          CASE dayofweek(date)\n",
    "            WHEN 1 THEN 'dimanche' WHEN 2 THEN 'lundi' WHEN 3 THEN 'mardi'\n",
    "            WHEN 4 THEN 'mercredi' WHEN 5 THEN 'jeudi'\n",
    "            WHEN 6 THEN 'vendredi' WHEN 7 THEN 'samedi'\n",
    "          END AS day_of_week_name_fr,\n",
    "          weekofyear(date) AS week_of_year,\n",
    "          CASE WHEN dayofweek(date) IN (1, 7) THEN TRUE ELSE FALSE END AS is_weekend\n",
    "        FROM (\n",
    "          SELECT sequence(\n",
    "            TO_DATE('2000-01-01'),\n",
    "            TO_DATE('2030-12-31'),\n",
    "            INTERVAL 1 DAY\n",
    "          ) AS date_array\n",
    "        ) LATERAL VIEW explode(date_array) AS date\n",
    "    \"\"\",\n",
    "    \"dim_customer\": f\"\"\"\n",
    "        SELECT\n",
    "          c.customer_id,\n",
    "          c.title,\n",
    "          c.first_name,\n",
    "          c.last_name,\n",
    "          c.company_name,\n",
    "          c.email_address,\n",
    "          c.phone,\n",
    "          a.address_line1,\n",
    "          a.city,\n",
    "          a.state_province,\n",
    "          a.country_region,\n",
    "          a.postal_code\n",
    "        FROM {catalog}.{silver_schema}.silver_saleslt_customer c\n",
    "        LEFT JOIN {catalog}.{silver_schema}.silver_saleslt_customer_address ca\n",
    "          ON ca.customer_id = c.customer_id AND ca.is_current = true\n",
    "        LEFT JOIN {catalog}.{silver_schema}.silver_saleslt_address a\n",
    "          ON a.address_id = ca.address_id AND a.is_current = true\n",
    "        WHERE c.is_current = true\n",
    "    \"\"\",\n",
    "    \"dim_address\": f\"\"\"\n",
    "        SELECT\n",
    "          address_id,\n",
    "          address_line1,\n",
    "          city,\n",
    "          state_province,\n",
    "          country_region,\n",
    "          postal_code\n",
    "        FROM {catalog}.{silver_schema}.silver_saleslt_address\n",
    "        WHERE is_current = true\n",
    "    \"\"\",\n",
    "    \"dim_product\": f\"\"\"\n",
    "        SELECT\n",
    "          p.product_id,\n",
    "          p.name,\n",
    "          p.product_number,\n",
    "          p.color,\n",
    "          p.size,\n",
    "          p.standard_cost,\n",
    "          p.list_price,\n",
    "          c.product_category_id,\n",
    "          c.name AS product_category_name,\n",
    "          c.parent_product_category_id,\n",
    "          pc.name AS parent_product_category_name,\n",
    "          m.product_model_id,\n",
    "          m.name AS product_model_name,\n",
    "          d.description AS product_description\n",
    "        FROM {catalog}.{silver_schema}.silver_saleslt_product p\n",
    "        LEFT JOIN {catalog}.{silver_schema}.silver_saleslt_product_category c\n",
    "          ON p.product_category_id = c.product_category_id AND c.is_current = true\n",
    "        LEFT JOIN {catalog}.{silver_schema}.silver_saleslt_product_category pc\n",
    "          ON c.parent_product_category_id = pc.product_category_id AND pc.is_current = true\n",
    "        LEFT JOIN {catalog}.{silver_schema}.silver_saleslt_product_model m\n",
    "          ON p.product_model_id = m.product_model_id AND m.is_current = true\n",
    "        LEFT JOIN {catalog}.{silver_schema}.silver_saleslt_product_model_product_description mpd\n",
    "          ON m.product_model_id = mpd.product_model_id AND mpd.is_current = true AND mpd.culture = 'en'\n",
    "        LEFT JOIN {catalog}.{silver_schema}.silver_saleslt_product_description d\n",
    "          ON mpd.product_description_id = d.product_description_id AND d.is_current = true\n",
    "        WHERE p.is_current = true\n",
    "    \"\"\"\n",
    "}\n",
    "\n",
    "# Exécution du chargement pour chaque table\n",
    "for table_name, sql_query in queries.items():\n",
    "    ingest_dim(table_name, sql_query)\n"
   ]
  },
  {
   "cell_type": "markdown",
   "metadata": {
    "application/vnd.databricks.v1+cell": {
     "cellMetadata": {
      "byteLimit": 2048000,
      "rowLimit": 10000
     },
     "inputWidgets": {},
     "nuid": "44bb7a83-ddcd-4881-87c4-51642f27e3e7",
     "showTitle": false,
     "tableResultSettingsMap": {},
     "title": ""
    }
   },
   "source": [
    "DML des faits (SCD1)"
   ]
  },
  {
   "cell_type": "code",
   "execution_count": 0,
   "metadata": {
    "application/vnd.databricks.v1+cell": {
     "cellMetadata": {
      "byteLimit": 2048000,
      "rowLimit": 10000
     },
     "inputWidgets": {},
     "nuid": "529bf14b-28d8-4b87-bad0-2605d622a9e1",
     "showTitle": false,
     "tableResultSettingsMap": {},
     "title": ""
    }
   },
   "outputs": [],
   "source": [
    "def ingest_fact_sales():\n",
    "    table_name = \"fact_sales\"\n",
    "    full_table_name = f\"{catalog}.{gold_schema}.{table_name}\"\n",
    "    try:\n",
    "        spark.sql(f\"TRUNCATE TABLE {full_table_name}\")\n",
    "\n",
    "        query = f\"\"\"\n",
    "        SELECT\n",
    "          h.sales_order_id,\n",
    "          d.sales_order_detail_id,\n",
    "          c.customer_key,\n",
    "          p.product_key,\n",
    "          CAST(date_format(h.order_date, 'yyyyMMdd') AS INT) AS order_date_key,\n",
    "          CAST(date_format(h.due_date, 'yyyyMMdd') AS INT) AS due_date_key,\n",
    "          CAST(date_format(h.ship_date, 'yyyyMMdd') AS INT) AS ship_date_key,\n",
    "          sa.address_key AS ship_to_address_key,\n",
    "          ba.address_key AS bill_to_address_key,\n",
    "          h.ship_method AS ship_method,\n",
    "          d.order_qty,\n",
    "          d.unit_price,\n",
    "          d.unit_price_discount,\n",
    "          d.line_total,\n",
    "          CAST(d.order_qty * d.unit_price AS DECIMAL(19,4)) AS gross_amount,\n",
    "          CAST((d.order_qty * d.unit_price) - d.line_total AS DECIMAL(19,4)) AS discount_amount,\n",
    "          h.tax_amt,\n",
    "          h.freight,\n",
    "          current_timestamp() AS load_date\n",
    "        FROM {catalog}.{silver_schema}.silver_saleslt_sales_order_detail d\n",
    "        JOIN {catalog}.{silver_schema}.silver_saleslt_sales_order_header h\n",
    "          ON d.sales_order_id = h.sales_order_id AND h.is_current = true\n",
    "        JOIN {catalog}.{gold_schema}.dim_customer c\n",
    "          ON h.customer_id = c.customer_id\n",
    "        JOIN {catalog}.{gold_schema}.dim_product p\n",
    "          ON d.product_id = p.product_id\n",
    "        JOIN {catalog}.{gold_schema}.dim_address sa\n",
    "          ON h.ship_to_address_id = sa.address_id\n",
    "        JOIN {catalog}.{gold_schema}.dim_address ba\n",
    "          ON h.bill_to_address_id = ba.address_id\n",
    "        WHERE d.is_current = true\n",
    "        \"\"\"\n",
    "\n",
    "        df = spark.sql(query)\n",
    "        inserted_count = df.count()\n",
    "        df.write.mode(\"append\").saveAsTable(full_table_name)\n",
    "        log_gold_processing_result(\n",
    "            table_name, \"OK\",\n",
    "            rows_inserted=inserted_count,\n",
    "            message=\"Ingestion réussie\"\n",
    "        )\n",
    "\n",
    "    except Exception as e:\n",
    "        log_gold_processing_result(table_name, \"KO\", message=str(e))\n",
    "\n",
    "# Exécution\n",
    "ingest_fact_sales()"
   ]
  },
  {
   "cell_type": "markdown",
   "metadata": {
    "application/vnd.databricks.v1+cell": {
     "cellMetadata": {
      "byteLimit": 2048000,
      "rowLimit": 10000
     },
     "inputWidgets": {},
     "nuid": "d70fd520-2ebb-4dc0-80f2-0ef221cbce73",
     "showTitle": false,
     "tableResultSettingsMap": {},
     "title": ""
    }
   },
   "source": [
    "Création des vues"
   ]
  },
  {
   "cell_type": "code",
   "execution_count": 0,
   "metadata": {
    "application/vnd.databricks.v1+cell": {
     "cellMetadata": {
      "byteLimit": 2048000,
      "rowLimit": 10000
     },
     "inputWidgets": {},
     "nuid": "d2a0abd9-1443-427c-a7c6-adc7a5fcdd8e",
     "showTitle": false,
     "tableResultSettingsMap": {},
     "title": ""
    }
   },
   "outputs": [],
   "source": [
    "def create_gold_view(view_name: str, sql_body: str):\n",
    "    try:\n",
    "        spark.sql(f\"CREATE OR REPLACE VIEW {catalog}.{gold_schema}.{view_name} AS {sql_body}\")\n",
    "        log_gold_processing_result(view_name, \"OK\", message=\"Vue créée avec succès\")\n",
    "    except Exception as e:\n",
    "        log_gold_processing_result(view_name, \"KO\", message=str(e))\n",
    "\n",
    "# Préfixes communs\n",
    "fs = f\"{catalog}.{gold_schema}.fact_sales\"\n",
    "dp = f\"{catalog}.{gold_schema}.dim_product\"\n",
    "dc = f\"{catalog}.{gold_schema}.dim_customer\"\n",
    "cal = f\"{catalog}.{gold_schema}.dim_calendar\"\n",
    "\n",
    "# Dictionnaire des vues\n",
    "views = {\n",
    "    # Dashboard 1 – Vue d’ensemble commerciale\n",
    "    \"vw_total_revenue\": f\"\"\"\n",
    "        SELECT SUM(line_total) AS total_revenue FROM {fs}\n",
    "    \"\"\",\n",
    "\n",
    "    \"vw_total_orders\": f\"\"\"\n",
    "        SELECT COUNT(DISTINCT sales_order_id) AS total_orders FROM {fs}\n",
    "    \"\"\",\n",
    "\n",
    "    \"vw_clients_active\": f\"\"\"\n",
    "        SELECT COUNT(DISTINCT customer_key) AS clients_active FROM {fs}\n",
    "    \"\"\",\n",
    "\n",
    "    \"vw_monthly_revenue_fr\": f\"\"\"\n",
    "        SELECT dc.year, dc.month, dc.month_name_fr AS month_name, SUM(fs.line_total) AS total_revenue\n",
    "        FROM {fs} fs\n",
    "        JOIN {cal} dc ON fs.order_date_key = dc.date_key\n",
    "        GROUP BY dc.year, dc.month, dc.month_name_fr\n",
    "        ORDER BY dc.year, dc.month\n",
    "    \"\"\",\n",
    "\n",
    "    \"vw_monthly_revenue_en\": f\"\"\"\n",
    "        SELECT dc.year, dc.month, dc.month_name_en AS month_name, SUM(fs.line_total) AS total_revenue\n",
    "        FROM {fs} fs\n",
    "        JOIN {cal} dc ON fs.order_date_key = dc.date_key\n",
    "        GROUP BY dc.year, dc.month, dc.month_name_en\n",
    "        ORDER BY dc.year, dc.month\n",
    "    \"\"\",\n",
    "\n",
    "    \"vw_revenue_by_category\": f\"\"\"\n",
    "        SELECT dp.product_category_name, SUM(fs.line_total) AS total_revenue\n",
    "        FROM {fs} fs\n",
    "        JOIN {dp} dp ON fs.product_key = dp.product_key\n",
    "        GROUP BY dp.product_category_name\n",
    "    \"\"\",\n",
    "\n",
    "    \"vw_revenue_by_region\": f\"\"\"\n",
    "        SELECT dc.state_province, SUM(fs.line_total) AS total_revenue\n",
    "        FROM {fs} fs\n",
    "        JOIN {dc} dc ON fs.customer_key = dc.customer_key\n",
    "        GROUP BY dc.state_province\n",
    "    \"\"\",\n",
    "\n",
    "    # Dashboard 2 – Produits et performance catalogue\n",
    "    \"vw_total_units_sold\": f\"\"\"\n",
    "        SELECT SUM(order_qty) AS total_units_sold FROM {fs}\n",
    "    \"\"\",\n",
    "\n",
    "    \"vw_top_products_by_volume\": f\"\"\"\n",
    "        SELECT dp.name AS product_name, SUM(fs.order_qty) AS total_units_sold\n",
    "        FROM {fs} fs\n",
    "        JOIN {dp} dp ON fs.product_key = dp.product_key\n",
    "        GROUP BY dp.name\n",
    "        ORDER BY total_units_sold DESC\n",
    "        LIMIT 10\n",
    "    \"\"\",\n",
    "\n",
    "    \"vw_products_sold_summary\": f\"\"\"\n",
    "        SELECT dp.name AS product_name,\n",
    "               dp.product_category_name,\n",
    "               SUM(fs.line_total) AS total_revenue,\n",
    "               SUM(fs.order_qty) AS total_quantity\n",
    "        FROM {fs} fs\n",
    "        JOIN {dp} dp ON fs.product_key = dp.product_key\n",
    "        GROUP BY dp.name, dp.product_category_name\n",
    "    \"\"\",\n",
    "\n",
    "    \"vw_sales_by_product_month_fr\": f\"\"\"\n",
    "        SELECT dp.name AS product_name, dc.year, dc.month, dc.month_name_fr AS month_name,\n",
    "               SUM(fs.line_total) AS total_revenue\n",
    "        FROM {fs} fs\n",
    "        JOIN {dp} dp ON fs.product_key = dp.product_key\n",
    "        JOIN {cal} dc ON fs.order_date_key = dc.date_key\n",
    "        GROUP BY dp.name, dc.year, dc.month, dc.month_name_fr\n",
    "    \"\"\",\n",
    "\n",
    "    \"vw_sales_by_product_month_en\": f\"\"\"\n",
    "        SELECT dp.name AS product_name, dc.year, dc.month, dc.month_name_en AS month_name,\n",
    "               SUM(fs.line_total) AS total_revenue\n",
    "        FROM {fs} fs\n",
    "        JOIN {dp} dp ON fs.product_key = dp.product_key\n",
    "        JOIN {cal} dc ON fs.order_date_key = dc.date_key\n",
    "        GROUP BY dp.name, dc.year, dc.month, dc.month_name_en\n",
    "    \"\"\",\n",
    "\n",
    "    \"vw_unsold_products\": f\"\"\"\n",
    "        SELECT p.product_id, p.name, p.product_category_name\n",
    "        FROM {dp} p\n",
    "        LEFT JOIN {fs} fs ON fs.product_key = p.product_key\n",
    "        WHERE fs.product_key IS NULL\n",
    "    \"\"\",\n",
    "\n",
    "    # Dashboard 3 – Analyse client\n",
    "    \"vw_orders_per_customer\": f\"\"\"\n",
    "        SELECT dc.customer_id, dc.first_name, dc.last_name, dc.country_region, dc.state_province,\n",
    "               COUNT(DISTINCT fs.sales_order_id) AS total_orders\n",
    "        FROM {fs} fs\n",
    "        JOIN {dc} dc ON fs.customer_key = dc.customer_key\n",
    "        GROUP BY dc.customer_id, dc.first_name, dc.last_name, dc.country_region, dc.state_province\n",
    "        ORDER BY total_orders DESC\n",
    "    \"\"\",\n",
    "\n",
    "    \"vw_customer_value_summary\": f\"\"\"\n",
    "        SELECT dc.customer_id, dc.first_name, dc.last_name,\n",
    "               COUNT(DISTINCT fs.sales_order_id) AS total_orders,\n",
    "               SUM(fs.line_total) AS total_revenue\n",
    "        FROM {fs} fs\n",
    "        JOIN {dc} dc ON fs.customer_key = dc.customer_key\n",
    "        GROUP BY dc.customer_id, dc.first_name, dc.last_name\n",
    "    \"\"\",\n",
    "\n",
    "    # Dashboard 4 – Commandes et opérations\n",
    "    \"vw_sales_by_day\": f\"\"\"\n",
    "        SELECT cal.full_date, SUM(fs.line_total) AS total_revenue\n",
    "        FROM {fs} fs\n",
    "        JOIN {cal} cal ON fs.order_date_key = cal.date_key\n",
    "        GROUP BY cal.full_date\n",
    "        ORDER BY cal.full_date\n",
    "    \"\"\",\n",
    "\n",
    "    \"vw_order_detail_summary\": f\"\"\"\n",
    "        SELECT fs.sales_order_id, cal.full_date AS order_date,\n",
    "               dc.first_name, dc.last_name,\n",
    "               COUNT(fs.sales_order_detail_id) AS total_lines,\n",
    "               SUM(fs.line_total) AS total_order_amount\n",
    "        FROM {fs} fs\n",
    "        JOIN {cal} cal ON fs.order_date_key = cal.date_key\n",
    "        JOIN {dc} dc ON fs.customer_key = dc.customer_key\n",
    "        GROUP BY fs.sales_order_id, cal.full_date, dc.first_name, dc.last_name\n",
    "    \"\"\",\n",
    "\n",
    "    \"vw_average_delivery_delay\": f\"\"\"\n",
    "        SELECT ROUND(AVG(DATEDIFF(\n",
    "            TO_DATE(CAST(ship_date_key AS STRING), 'yyyyMMdd'),\n",
    "            TO_DATE(CAST(order_date_key AS STRING), 'yyyyMMdd')\n",
    "        ))) AS avg_days_to_ship\n",
    "        FROM {fs}\n",
    "        WHERE ship_date_key IS NOT NULL AND order_date_key IS NOT NULL\n",
    "    \"\"\"\n",
    "}\n",
    "\n",
    "# Création des vues\n",
    "for view_name, sql_query in views.items():\n",
    "    create_gold_view(view_name, sql_query)\n"
   ]
  }
 ],
 "metadata": {
  "application/vnd.databricks.v1+notebook": {
   "computePreferences": null,
   "dashboards": [],
   "environmentMetadata": {
    "base_environment": "",
    "environment_version": "2"
   },
   "inputWidgetPreferences": null,
   "language": "python",
   "notebookMetadata": {
    "pythonIndentUnit": 4
   },
   "notebookName": "4.0 Gold layer - Aggregation",
   "widgets": {}
  },
  "language_info": {
   "name": "python"
  }
 },
 "nbformat": 4,
 "nbformat_minor": 0
}
